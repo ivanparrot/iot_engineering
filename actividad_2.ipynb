{
 "cells": [
  {
   "cell_type": "code",
   "execution_count": 1,
   "metadata": {},
   "outputs": [],
   "source": [
    "# Importaciones\n",
    "import serial\n",
    "import urllib.request\n",
    "import time\n",
    "import timer\n",
    "#from timer import default_timer\n",
    "import datetime"
   ]
  },
  {
   "cell_type": "code",
   "execution_count": 2,
   "metadata": {},
   "outputs": [],
   "source": [
    "# Inicializaciones\n",
    "user_API_key=\"HNW8VCO2LLUI0U99\"\n",
    "tR = 0 #seconds\n",
    "serie=serial.Serial(\"COM3\",9600) # Abre COM Arduino"
   ]
  },
  {
   "cell_type": "code",
   "execution_count": 3,
   "metadata": {},
   "outputs": [],
   "source": [
    "url=\"https://api.thingspeak.com/update?api_key=\"+user_API_key\n",
    "# data_thingspeak=\"&field\"+str(1)+\"=\"+<temp>+\"&field\"+str(2)+\"=\"+<hum>"
   ]
  },
  {
   "cell_type": "code",
   "execution_count": 4,
   "metadata": {},
   "outputs": [],
   "source": [
    "serie.flushInput() # Borra buffer\n",
    "tic = time.time()\n",
    "\n",
    "while True: # Empezamos loop\n",
    "    n_bytes=serie.inWaiting()\n",
    "    if n_bytes>=7: # Si el buffer tiene 7 bits o mas\n",
    "        print(n_bytes)\n",
    "        data=str(serie.readline())  # Leemos linea\n",
    "        data2=data.split(\",\")\n",
    "        hum=data2[0]\n",
    "        temp=data2[1]\n",
    "        h=hum[2]+hum[3]\n",
    "        t=temp[0]+temp[1]\n",
    "        \n",
    "        toc = time.time()-tic # Miramos tiempo pasado desde ultimo envio\n",
    "        print(toc)\n",
    "        if toc>tR: \n",
    "            print(h)\n",
    "            print(t)\n",
    "            data_thingspeak=\"&field\"+str(1)+\"=\"+h+\"&field\"+str(2)+\"=\"+t # Monta paquete\n",
    "            conn=urllib.request.urlopen(url+data_thingspeak) # Envia a Thingspeak\n",
    "            #envia\n",
    "            tic = time.time() # Resetea tiempo"
   ]
  },
  {
   "cell_type": "code",
   "execution_count": null,
   "metadata": {},
   "outputs": [],
   "source": []
  }
 ],
 "metadata": {
  "kernelspec": {
   "display_name": "Python 3",
   "language": "python",
   "name": "python3"
  },
  "language_info": {
   "codemirror_mode": {
    "name": "ipython",
    "version": 3
   },
   "file_extension": ".py",
   "mimetype": "text/x-python",
   "name": "python",
   "nbconvert_exporter": "python",
   "pygments_lexer": "ipython3",
   "version": "3.6.10"
  }
 },
 "nbformat": 4,
 "nbformat_minor": 4
}
